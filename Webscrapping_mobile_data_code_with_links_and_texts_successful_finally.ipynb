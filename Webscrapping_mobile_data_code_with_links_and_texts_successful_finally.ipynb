{
  "nbformat": 4,
  "nbformat_minor": 0,
  "metadata": {
    "colab": {
      "name": "Webscrapping mobile data code with links and texts- successful finally.ipynb",
      "provenance": [],
      "collapsed_sections": [],
      "authorship_tag": "ABX9TyOqyE18KIVE4OEO4Jr6BB8C",
      "include_colab_link": true
    },
    "kernelspec": {
      "name": "python3",
      "display_name": "Python 3"
    },
    "language_info": {
      "name": "python"
    }
  },
  "cells": [
    {
      "cell_type": "markdown",
      "metadata": {
        "id": "view-in-github",
        "colab_type": "text"
      },
      "source": [
        "<a href=\"https://colab.research.google.com/github/farhan-naqvi/mlh/blob/main/Webscrapping_mobile_data_code_with_links_and_texts_successful_finally.ipynb\" target=\"_parent\"><img src=\"https://colab.research.google.com/assets/colab-badge.svg\" alt=\"Open In Colab\"/></a>"
      ]
    },
    {
      "cell_type": "markdown",
      "metadata": {
        "id": "FbD1nOKDWbPX"
      },
      "source": [
        "# Extracting the urls / Don't run this cell"
      ]
    },
    {
      "cell_type": "code",
      "metadata": {
        "id": "t4bdi88mcqf7"
      },
      "source": [
        "import requests \n",
        "from bs4 import BeautifulSoup \n",
        "import pandas as pd\n",
        "\n",
        "baseurl = 'https://www.consumercomplaints.in' # might have to add /\n",
        "\n",
        "# complaintlink=[]\n",
        "productlink=[]\n",
        "for x in range(1,6):\n",
        "  r = requests.get(f'https://www.consumercomplaints.in/karbonn-mobiles-b100026/page/{x}')\n",
        "\n",
        "  soup = BeautifulSoup(r.content, 'lxml')\n",
        "\n",
        "  productlist = soup.find_all('h4',class_='complaint-box__title')\n",
        "\n",
        "  \n",
        "\n",
        "  for item in productlist:\n",
        "    for link in item.find_all('a',href=True):\n",
        "      # print(link['href'])\n",
        "      productlink.append(baseurl+link['href'])\n",
        "\n",
        "\n",
        "\n",
        "print(len(productlink))\n",
        "for i in productlink:\n",
        "  print(i)"
      ],
      "execution_count": null,
      "outputs": []
    },
    {
      "cell_type": "markdown",
      "metadata": {
        "id": "ltGjkqleWeN5"
      },
      "source": [
        "# Extracting the urls+data from the links(TITLE LINKS)\n",
        "\n",
        "\n"
      ]
    },
    {
      "cell_type": "code",
      "metadata": {
        "colab": {
          "base_uri": "https://localhost:8080/",
          "height": 677
        },
        "id": "lZZqeTaDfwzp",
        "outputId": "ce605ddd-77fa-443b-a070-eceaf87a97e9"
      },
      "source": [
        "# testlink = 'https://www.consumercomplaints.in/karbonn-mobiles-my-phone-is-not-getting-start-c2033609'\n",
        "\n",
        "import requests \n",
        "from bs4 import BeautifulSoup \n",
        "import pandas as pd\n",
        "import re\n",
        "\n",
        "baseurl = 'https://www.consumercomplaints.in' # might have to add /\n",
        "\n",
        "# complaintlink=[]\n",
        "productlink=[]\n",
        "for x in range(2,3):\n",
        "  r = requests.get(f'https://www.consumercomplaints.in/karbonn-mobiles-b100026/page/{x}')\n",
        "\n",
        "  soup = BeautifulSoup(r.content, 'lxml')\n",
        "\n",
        "  productlist = soup.find_all('h4',class_='complaint-box__title')\n",
        "\n",
        "  \n",
        "\n",
        "  for item in productlist:\n",
        "    for link in item.find_all('a',href=True):\n",
        "      # print(link['href'])\n",
        "      productlink.append(baseurl+link['href'])\n",
        "\n",
        "lis=[]\n",
        "\n",
        "print(len(productlink))\n",
        "for i in productlink:\n",
        "  print(i)\n",
        "\n",
        "for link in productlink:\n",
        "\n",
        "  r = requests.get(link)\n",
        "  soup = BeautifulSoup(r.content,'lxml')\n",
        "  #\n",
        "  def resolved_issue():\n",
        "    '''\n",
        "    returns resolved keyword\n",
        "    '''\n",
        "    try:\n",
        "    # resolved_link = soup.find('h1')\n",
        "    # return resolved_link.text[1:9].strip()\n",
        "      txt = soup.find('td',class_='complaint')\n",
        "      txt = txt.find('span').text\n",
        "      return txt[-9:-1]\n",
        "    except:\n",
        "      return 'not resolved'\n",
        "\n",
        "  # resolved = resolved_issue()\n",
        "\n",
        "  #\n",
        "  def company_name():\n",
        "    try:\n",
        "      name_link = soup.find('h1').text.strip()\n",
        "      a = name_link.split(\"—\")\n",
        "      return a[0]\n",
        "      \n",
        "    except:\n",
        "      return 'none'\n",
        "\n",
        "  # complaint_company = company_name()\n",
        "  # complaint_company\n",
        "\n",
        "  #\n",
        "  def title():\n",
        "    \n",
        "    name_link = soup.find('h1').text.strip()\n",
        "    a = name_link.split(\"—\")\n",
        "    return a[1]\n",
        "\n",
        "  # complaint_title = title()\n",
        "  # complaint_title\n",
        "\n",
        "  #\n",
        "  def telephone():\n",
        "    '''\n",
        "    returns telephone numbers\n",
        "    '''\n",
        "    try:\n",
        "      title_link = soup.find('meta',itemprop='telephone')\n",
        "      # telephoneNo = title_link\n",
        "      # print(title_link.text[29:].strip())\n",
        "      id = title_link.get('content')\n",
        "      return id\n",
        "    except:\n",
        "      return 'none'\n",
        "\n",
        "  # telephone()\n",
        "\n",
        "  #\n",
        "  def datePublished():\n",
        "    try:\n",
        "      date = soup.find('meta',itemprop='datePublished').get('content')[:10].strip()\n",
        "      return date\n",
        "    except:\n",
        "      return \"none\"\n",
        "\n",
        "  # datePublished()\n",
        "\n",
        "  #\n",
        "  def username():\n",
        "    try:\n",
        "      name = soup.find('b',class_='author-box__user_bold').text.strip()\n",
        "      return name\n",
        "    except:\n",
        "      return \"none\"\n",
        "\n",
        "  # username()\n",
        "\n",
        "  #\n",
        "  def location():\n",
        "    try:\n",
        "      loc = soup.find('div',class_='author-box__location').text.strip()\n",
        "      return loc\n",
        "    except:\n",
        "      return \"none\"\n",
        "\n",
        "  # location()\n",
        "\n",
        "  #\n",
        "  def complaint_body():\n",
        "    try:\n",
        "      body = \". \".join(soup.find('div',itemprop='reviewBody').text.strip().split('\\n'))\n",
        "      return body\n",
        "    except:\n",
        "      return \"none\"\n",
        "\n",
        "  # complaint_body()\n",
        "\n",
        "  # resolved-text-date\n",
        "  #\n",
        "  def complaint_status_date():\n",
        "    try:\n",
        "      status_date = soup.find('div',class_='resolved-text-date').text.strip()\n",
        "      return status_date\n",
        "    except:\n",
        "      return \"none\"\n",
        "\n",
        "  # complaint_status_date()\n",
        "  #\n",
        "  def complaint_status_body():\n",
        "    try:\n",
        "      status_body = soup.find('div',class_='resolved-text-info').text.strip()\n",
        "      return status_body\n",
        "    except:\n",
        "      return \"none\"\n",
        "\n",
        "  # complaint_status_body()\n",
        "\n",
        "  #\n",
        "  def date_when_complaint_was_marked_resolved():\n",
        "    try:\n",
        "\n",
        "      resolved_date = soup.find('div',class_='resolved-text-date').text.strip()\n",
        "      return resolved_date\n",
        "    except:\n",
        "      return \"none\"\n",
        "\n",
        "  # date_when_complaint_was_marked_resolved()\n",
        "\n",
        "  # complaint-updates__top\n",
        "  #\n",
        "  def customer_care_mail():\n",
        "    try:\n",
        "      # mail = \". \".join(soup.find('div',class_='complaint-updates__item complaint-updates_support').text.strip().split('\\n'))\n",
        "      mail = soup.find('div',class_='complaint-updates__item complaint-updates_support').text.strip()\n",
        "      return mail\n",
        "      # print(mail)\n",
        "    except:\n",
        "      return \"no mail\"\n",
        " \n",
        "  # customer_care_mail()\n",
        "  \n",
        "\n",
        "  compaining = {\n",
        "      'company_name':company_name(),\n",
        "      'username':username(),\n",
        "      'location':location(),\n",
        "      'datePublished':datePublished(),\n",
        "      # 'telephone':telephone(),\n",
        "      'title':title(),\n",
        "      'complaint_body':complaint_body(),\n",
        "      'complaint_status_date':complaint_status_date(),\n",
        "      'complaint_status_body':complaint_status_body(),\n",
        "      'Resolved': resolved_issue(),\n",
        "      'date_when_complaint_was_marked_resolved':date_when_complaint_was_marked_resolved(),\n",
        "      'customer_care_mail':customer_care_mail()\n",
        "  }\n",
        "\n",
        "  # compaining\n",
        "  \n",
        "  lis.append(compaining)\n",
        "\n",
        "df = pd.DataFrame(lis)\n",
        "df.head()"
      ],
      "execution_count": null,
      "outputs": [
        {
          "output_type": "stream",
          "text": [
            "6\n",
            "https://www.consumercomplaints.in/karbonn-mobiles-my-phone-is-not-getting-start-c2033609\n",
            "https://www.consumercomplaints.in/karbonn-mobiles-satff-i-c2006020\n",
            "https://www.consumercomplaints.in/karbonn-mobiles-mobile-battery-blast-during-charging-c1973636\n",
            "https://www.consumercomplaints.in/karbonn-mobiles-karbonn-aura-1-mobile-cant-switch-on-c1956008\n",
            "https://www.consumercomplaints.in/karbonn-mobiles-karbonn-phone-is-not-getting-switched-on-c1905903\n",
            "https://www.consumercomplaints.in/karbonn-mobiles-couldnt-switch-on-c1875885\n"
          ],
          "name": "stdout"
        },
        {
          "output_type": "execute_result",
          "data": {
            "text/html": [
              "<div>\n",
              "<style scoped>\n",
              "    .dataframe tbody tr th:only-of-type {\n",
              "        vertical-align: middle;\n",
              "    }\n",
              "\n",
              "    .dataframe tbody tr th {\n",
              "        vertical-align: top;\n",
              "    }\n",
              "\n",
              "    .dataframe thead th {\n",
              "        text-align: right;\n",
              "    }\n",
              "</style>\n",
              "<table border=\"1\" class=\"dataframe\">\n",
              "  <thead>\n",
              "    <tr style=\"text-align: right;\">\n",
              "      <th></th>\n",
              "      <th>company_name</th>\n",
              "      <th>username</th>\n",
              "      <th>location</th>\n",
              "      <th>datePublished</th>\n",
              "      <th>title</th>\n",
              "      <th>complaint_body</th>\n",
              "      <th>complaint_status_date</th>\n",
              "      <th>complaint_status_body</th>\n",
              "      <th>Resolved</th>\n",
              "      <th>date_when_complaint_was_marked_resolved</th>\n",
              "      <th>customer_care_mail</th>\n",
              "    </tr>\n",
              "  </thead>\n",
              "  <tbody>\n",
              "    <tr>\n",
              "      <th>0</th>\n",
              "      <td>[Resolved]  Karbonn Mobiles</td>\n",
              "      <td>Razjay</td>\n",
              "      <td>Bahula, West Bengal</td>\n",
              "      <td>2018-07-30</td>\n",
              "      <td>my phone is not getting start</td>\n",
              "      <td>I am facing so many problem with my karbonn mo...</td>\n",
              "      <td>Sep 9, 2018</td>\n",
              "      <td>Karbonn Mobiles customer support has been noti...</td>\n",
              "      <td>Resolved</td>\n",
              "      <td>Sep 9, 2018</td>\n",
              "      <td>Verified SupportAug 09, 2018Karbonn Mobiles Cu...</td>\n",
              "    </tr>\n",
              "    <tr>\n",
              "      <th>1</th>\n",
              "      <td>Karbonn Mobiles</td>\n",
              "      <td>[email protected]</td>\n",
              "      <td>Gurgaon, Haryana</td>\n",
              "      <td>2018-07-03</td>\n",
              "      <td>satff I</td>\n",
              "      <td>मेरा नाम अमित कुमार है और मेरा मोबइल न. [prote...</td>\n",
              "      <td>Jul 03, 2018</td>\n",
              "      <td>Karbonn Mobiles customer support has been noti...</td>\n",
              "      <td>not resolved</td>\n",
              "      <td>Jul 03, 2018</td>\n",
              "      <td>no mail</td>\n",
              "    </tr>\n",
              "    <tr>\n",
              "      <th>2</th>\n",
              "      <td>[Resolved]  Karbonn Mobiles</td>\n",
              "      <td>gopaldhaker143</td>\n",
              "      <td>Jaipur, Rajasthan</td>\n",
              "      <td>2018-05-31</td>\n",
              "      <td>mobile battery blast during charging.</td>\n",
              "      <td>Hi!. . I am the user of karbonn titanium jumbo...</td>\n",
              "      <td>Jul 3, 2018</td>\n",
              "      <td>Karbonn Mobiles customer support has been noti...</td>\n",
              "      <td>Resolved</td>\n",
              "      <td>Jul 3, 2018</td>\n",
              "      <td>Verified SupportJun 01, 2018Karbonn Mobiles Cu...</td>\n",
              "    </tr>\n",
              "    <tr>\n",
              "      <th>3</th>\n",
              "      <td>[Resolved]  Karbonn Mobiles</td>\n",
              "      <td>suresh nande</td>\n",
              "      <td>Solapur, Maharashtra</td>\n",
              "      <td>2018-05-14</td>\n",
              "      <td>karbonn aura 1 mobile can't switch on</td>\n",
              "      <td>I ordered karbonn aura1 mob.from snapdel, but ...</td>\n",
              "      <td>Jun 18, 2018</td>\n",
              "      <td>Karbonn Mobiles customer support has been noti...</td>\n",
              "      <td>Resolved</td>\n",
              "      <td>Jun 18, 2018</td>\n",
              "      <td>Verified SupportMay 16, 2018Karbonn Mobiles Cu...</td>\n",
              "    </tr>\n",
              "    <tr>\n",
              "      <th>4</th>\n",
              "      <td>[Resolved]  Karbonn Mobiles</td>\n",
              "      <td>Shenujamol hn</td>\n",
              "      <td>Malappuram, Kerala</td>\n",
              "      <td>2018-03-24</td>\n",
              "      <td>karbonn phone is not getting switched on</td>\n",
              "      <td>I have buy a titanium jumbo of karboon through...</td>\n",
              "      <td>May 4, 2018</td>\n",
              "      <td>Karbonn Mobiles customer support has been noti...</td>\n",
              "      <td>Resolved</td>\n",
              "      <td>May 4, 2018</td>\n",
              "      <td>Verified SupportMar 26, 2018Karbonn Mobiles Cu...</td>\n",
              "    </tr>\n",
              "  </tbody>\n",
              "</table>\n",
              "</div>"
            ],
            "text/plain": [
              "                   company_name  ...                                 customer_care_mail\n",
              "0  [Resolved]  Karbonn Mobiles   ...  Verified SupportAug 09, 2018Karbonn Mobiles Cu...\n",
              "1              Karbonn Mobiles   ...                                            no mail\n",
              "2  [Resolved]  Karbonn Mobiles   ...  Verified SupportJun 01, 2018Karbonn Mobiles Cu...\n",
              "3  [Resolved]  Karbonn Mobiles   ...  Verified SupportMay 16, 2018Karbonn Mobiles Cu...\n",
              "4  [Resolved]  Karbonn Mobiles   ...  Verified SupportMar 26, 2018Karbonn Mobiles Cu...\n",
              "\n",
              "[5 rows x 11 columns]"
            ]
          },
          "metadata": {
            "tags": []
          },
          "execution_count": 92
        }
      ]
    },
    {
      "cell_type": "markdown",
      "metadata": {
        "id": "LofNjHZnWjBl"
      },
      "source": [
        "# Shape of the dataset"
      ]
    },
    {
      "cell_type": "code",
      "metadata": {
        "colab": {
          "base_uri": "https://localhost:8080/"
        },
        "id": "zS-cyy8CrY8J",
        "outputId": "235a149d-5f29-498a-d7b5-b5e95ef50fbd"
      },
      "source": [
        "df.shape"
      ],
      "execution_count": null,
      "outputs": [
        {
          "output_type": "execute_result",
          "data": {
            "text/plain": [
              "(6, 11)"
            ]
          },
          "metadata": {
            "tags": []
          },
          "execution_count": 93
        }
      ]
    },
    {
      "cell_type": "markdown",
      "metadata": {
        "id": "QueB1wlnWlxy"
      },
      "source": [
        "# Converting to csv file"
      ]
    },
    {
      "cell_type": "code",
      "metadata": {
        "id": "h9XlL_Yd_f4a"
      },
      "source": [
        "df.to_csv('data_karbonn_link_data_with_beautifulsoup.csv')"
      ],
      "execution_count": null,
      "outputs": []
    },
    {
      "cell_type": "markdown",
      "metadata": {
        "id": "Sp8WDSM_8k7h"
      },
      "source": [
        "\n",
        "\n",
        "---\n",
        "\n",
        "\n",
        "\n",
        "\n"
      ]
    },
    {
      "cell_type": "markdown",
      "metadata": {
        "id": "I0WkD7wu-6P3"
      },
      "source": [
        "# Text Titles"
      ]
    },
    {
      "cell_type": "code",
      "metadata": {
        "id": "GLp7kV6pChth",
        "colab": {
          "base_uri": "https://localhost:8080/",
          "height": 494
        },
        "outputId": "de788f7d-751e-42b8-eb2c-42a910b24b77"
      },
      "source": [
        "import requests\n",
        "from bs4 import BeautifulSoup \n",
        "import pandas as pd \n",
        "\n",
        "baseurl = 'https://www.consumercomplaints.in' \n",
        "lis=[]\n",
        "for x in range(2,3):\n",
        "  r=requests.get(f'https://www.consumercomplaints.in/karbonn-mobiles-b100026/page/{x}')\n",
        "\n",
        "  soup = BeautifulSoup(r.content,'lxml')\n",
        "\n",
        "  z=0\n",
        "\n",
        "  body = soup.find_all('div',class_=\"complaint-box white-box\")\n",
        "\n",
        "  ##############################\n",
        "  def company_name():\n",
        "      '''\n",
        "      returns resolved keyword\n",
        "      '''\n",
        "      try:\n",
        "      # resolved_link = soup.find('h1')\n",
        "      # return resolved_link.text[1:9].strip()\n",
        "        company = h4.find('b').text\n",
        "        return company\n",
        "      except:\n",
        "        return 'no company'\n",
        "  #############################\n",
        "  def complaint_title():\n",
        "    try:\n",
        "      title = h4.find('span',class_ = \"like-a\").text.strip()\n",
        "      a = (title.strip()).split(\"—\")\n",
        "      return a[1]\n",
        "    except:\n",
        "      return 'no title'\n",
        "  ############################\n",
        "  def resolved_issue():\n",
        "    try:\n",
        "      resolved = box.find('span',class_=\"complaint-box__resolved\").text\n",
        "      return resolved[2:-1]\n",
        "    except:\n",
        "      return 'not resolved'\n",
        "  ############################\n",
        "  def country():\n",
        "      try:\n",
        "        author = title.find('span',itemprop=\"author\")\n",
        "        address = author.find('span',itemprop=\"address\")\n",
        "        country = address.find('meta',itemprop='addressCountry')\n",
        "        return country.get('content')\n",
        "      except:\n",
        "        return 'no country'\n",
        "\n",
        "  def state():\n",
        "    try:\n",
        "        author = title.find('span',itemprop=\"author\")\n",
        "        address = author.find('span',itemprop=\"address\")\n",
        "        state = address.find('meta',itemprop='addressRegion')\n",
        "        return state.get('content')\n",
        "      \n",
        "    except:\n",
        "        return 'no state'\n",
        "\n",
        "  def city():\n",
        "    try:\n",
        "        author = title.find('span',itemprop=\"author\")\n",
        "        address = author.find('span',itemprop=\"address\")\n",
        "        city = address.find('meta',itemprop='addressLocality')\n",
        "        return city.get('content')\n",
        "      \n",
        "    except:\n",
        "        return 'no city'\n",
        "\n",
        "  def complaint_body():\n",
        "    try:\n",
        "        reviewbody = box.find('div',itemprop=\"reviewBody\").text.strip()\n",
        "        return reviewbody\n",
        "    except:\n",
        "        return 'no complaint'\n",
        "\n",
        "  def complaint_status_date():\n",
        "    try:\n",
        "        a = box.find('div',class_=\"complaint-box__text\")\n",
        "        status_date = a.find_all('div',class_=\"resolved-text-date\")\n",
        "        if len(status_date)==0:\n",
        "          return 'no complaint status date'\n",
        "        if len(status_date)==1:\n",
        "          return status_date[0].text\n",
        "        if len(status_date)==2:\n",
        "          return status_date[1].text\n",
        "    except:\n",
        "        return 'no complaint status date'\n",
        "\n",
        "  def complaint_status_text():\n",
        "    try:\n",
        "        a = box.find('div',class_=\"complaint-box__text\")\n",
        "        date2 = a.find_all('div',class_=\"resolved-text-info\")\n",
        "        if len(date2)==0:\n",
        "          return 'no reply'\n",
        "        if len(date2)==1:\n",
        "          return date2[0].text\n",
        "        if len(date2)==2:\n",
        "          return date2[1].text,\n",
        "          \n",
        "    except:\n",
        "        return 'no status date'\n",
        "\n",
        "  def mail():\n",
        "    try:\n",
        "        a = box.find('div',class_=\"complaint-updates__item complaint-updates_support\")\n",
        "        \n",
        "        return a.text\n",
        "    except:\n",
        "        return 'no mail'\n",
        "\n",
        "  def mail_date():\n",
        "    try:\n",
        "        a = box.find('div',class_=\"complaint-updates__item complaint-updates_support\")\n",
        "        \n",
        "        return a.text[16:29]\n",
        "    except:\n",
        "        return 'no mail date'\n",
        "\n",
        "  def username():\n",
        "    try:\n",
        "        a = box.find('div',class_=\"complaint-box__row\")\n",
        "        name = a.find('b',class_ = \"author-box__user_bold\").text.strip()\n",
        "        return name\n",
        "    except:\n",
        "        return 'no username'\n",
        "\n",
        "  def date_of_complaint():\n",
        "    try:\n",
        "        a = box.find('div',class_=\"complaint-box__row\")\n",
        "        date_complaint = a.find('div',class_ = \"author-box__date\").text\n",
        "        return date_complaint\n",
        "    except:\n",
        "        return 'no date of complaint'\n",
        "\n",
        "  def location():\n",
        "    try:\n",
        "      a = box.find('div',class_=\"complaint-box__row\")\n",
        "      loc = a.find('div',class_=\"author-box__location\")\n",
        "      return loc.text.strip()\n",
        "    except:\n",
        "      return \"no location\"\n",
        "\n",
        "  for i in body:\n",
        "\n",
        "    box = i.find('div',class_='complaint-box__box') # important / use this\n",
        "\n",
        "    title  =box.find('div',class_=\"complaint-box__header\")\n",
        "\n",
        "    h4  =title.find('h4',class_=\"complaint-box__title\")\n",
        "\n",
        "    link = h4.find('a',href=True)\n",
        "    \n",
        "    if link!=None:\n",
        "      pass\n",
        "    else:\n",
        "      # date_of_complaint()\n",
        "      # resolved_issue()\n",
        "      # mail()\n",
        "\n",
        "      compaining = {\n",
        "        'company_name':company_name(),\n",
        "        'username':username(),\n",
        "        # 'City': city(),\n",
        "        # 'State': state(),\n",
        "        # 'Country': country(),\n",
        "        'location': location(),\n",
        "        'datePublished':date_of_complaint(),\n",
        "        # 'telephone':telephone(),\n",
        "        'title':complaint_title(),\n",
        "        'complaint_body':complaint_body(),\n",
        "        'complaint_status_date':complaint_status_date(),\n",
        "        'complaint_status_body': complaint_status_text(),\n",
        "        'Resolved': resolved_issue(),\n",
        "        'date_when_complaint_was_marked_resolved':mail_date(),\n",
        "        'customer_care_mail':mail(),\n",
        "    }\n",
        "\n",
        "    # compaining\n",
        "    \n",
        "      lis.append(compaining)\n",
        "    \n",
        "    \n",
        "# print(lis)\n",
        "\n",
        "df_text = pd.DataFrame(lis)\n",
        "df_text.head()"
      ],
      "execution_count": null,
      "outputs": [
        {
          "output_type": "execute_result",
          "data": {
            "text/html": [
              "<div>\n",
              "<style scoped>\n",
              "    .dataframe tbody tr th:only-of-type {\n",
              "        vertical-align: middle;\n",
              "    }\n",
              "\n",
              "    .dataframe tbody tr th {\n",
              "        vertical-align: top;\n",
              "    }\n",
              "\n",
              "    .dataframe thead th {\n",
              "        text-align: right;\n",
              "    }\n",
              "</style>\n",
              "<table border=\"1\" class=\"dataframe\">\n",
              "  <thead>\n",
              "    <tr style=\"text-align: right;\">\n",
              "      <th></th>\n",
              "      <th>company_name</th>\n",
              "      <th>username</th>\n",
              "      <th>location</th>\n",
              "      <th>datePublished</th>\n",
              "      <th>title</th>\n",
              "      <th>complaint_body</th>\n",
              "      <th>complaint_status_date</th>\n",
              "      <th>complaint_status_body</th>\n",
              "      <th>Resolved</th>\n",
              "      <th>date_when_complaint_was_marked_resolved</th>\n",
              "      <th>customer_care_mail</th>\n",
              "    </tr>\n",
              "  </thead>\n",
              "  <tbody>\n",
              "    <tr>\n",
              "      <th>0</th>\n",
              "      <td>Karbonn Mobiles</td>\n",
              "      <td>kierah</td>\n",
              "      <td>no location</td>\n",
              "      <td>Oct 22, 2018</td>\n",
              "      <td>\\nthe worst mobile phone ever</td>\n",
              "      <td>I regret taking this phone as it is not even a...</td>\n",
              "      <td>Oct 22, 2018</td>\n",
              "      <td>Karbonn Mobiles customer support has been not...</td>\n",
              "      <td>Resolved</td>\n",
              "      <td>Oct 22, 2018K</td>\n",
              "      <td>Verified SupportOct 22, 2018Karbonn Mobiles Cu...</td>\n",
              "    </tr>\n",
              "    <tr>\n",
              "      <th>1</th>\n",
              "      <td>Karbonn Mobiles</td>\n",
              "      <td>glenjoku</td>\n",
              "      <td>Muluppilagadu, Kerala</td>\n",
              "      <td>Sep 24, 2018</td>\n",
              "      <td>\\nkarbonn a40 indian smartphone</td>\n",
              "      <td>I bought a new karbon a40 indian smart phone. ...</td>\n",
              "      <td>Sep 24, 2018</td>\n",
              "      <td>Karbonn Mobiles customer support has been not...</td>\n",
              "      <td>Resolved</td>\n",
              "      <td>Sep 25, 2018K</td>\n",
              "      <td>Verified SupportSep 25, 2018Karbonn Mobiles Cu...</td>\n",
              "    </tr>\n",
              "    <tr>\n",
              "      <th>2</th>\n",
              "      <td>Karbonn Mobiles</td>\n",
              "      <td>krish poshirkar</td>\n",
              "      <td>Delhi, Delhi</td>\n",
              "      <td>Sep 17, 2018</td>\n",
              "      <td>\\nbattery is low very few hours</td>\n",
              "      <td>I have taken karbonn mobile before few days ab...</td>\n",
              "      <td>Sep 18, 2018</td>\n",
              "      <td>Karbonn Mobiles customer support has been not...</td>\n",
              "      <td>Resolved</td>\n",
              "      <td>Sep 18, 2018K</td>\n",
              "      <td>Verified SupportSep 18, 2018Karbonn Mobiles Cu...</td>\n",
              "    </tr>\n",
              "    <tr>\n",
              "      <th>3</th>\n",
              "      <td>Karbonn Mobiles</td>\n",
              "      <td>Remya Gopinath</td>\n",
              "      <td>Kottayam, Kerala</td>\n",
              "      <td>Aug 21, 2018</td>\n",
              "      <td>\\nkarbonn aura 1 mobile can't switch on</td>\n",
              "      <td>I ordered karbonn aura1 mob.from snapdel, but ...</td>\n",
              "      <td>Aug 22, 2018</td>\n",
              "      <td>Karbonn Mobiles customer support has been not...</td>\n",
              "      <td>Resolved</td>\n",
              "      <td>Aug 22, 2018K</td>\n",
              "      <td>Verified SupportAug 22, 2018Karbonn Mobiles Cu...</td>\n",
              "    </tr>\n",
              "    <tr>\n",
              "      <th>4</th>\n",
              "      <td>Karbonn Mobiles</td>\n",
              "      <td>Hemant sinsinwar 22</td>\n",
              "      <td>Sikar, Rajasthan</td>\n",
              "      <td>Aug 20, 2018</td>\n",
              "      <td>\\nlaxmi associate service center bharatpur</td>\n",
              "      <td>Sir i have karbon jambo 2 mobile purchase by f...</td>\n",
              "      <td>Aug 20, 2018</td>\n",
              "      <td>Karbonn Mobiles customer support has been not...</td>\n",
              "      <td>Resolved</td>\n",
              "      <td>Aug 22, 2018K</td>\n",
              "      <td>Verified SupportAug 22, 2018Karbonn Mobiles Cu...</td>\n",
              "    </tr>\n",
              "  </tbody>\n",
              "</table>\n",
              "</div>"
            ],
            "text/plain": [
              "      company_name  ...                                 customer_care_mail\n",
              "0  Karbonn Mobiles  ...  Verified SupportOct 22, 2018Karbonn Mobiles Cu...\n",
              "1  Karbonn Mobiles  ...  Verified SupportSep 25, 2018Karbonn Mobiles Cu...\n",
              "2  Karbonn Mobiles  ...  Verified SupportSep 18, 2018Karbonn Mobiles Cu...\n",
              "3  Karbonn Mobiles  ...  Verified SupportAug 22, 2018Karbonn Mobiles Cu...\n",
              "4  Karbonn Mobiles  ...  Verified SupportAug 22, 2018Karbonn Mobiles Cu...\n",
              "\n",
              "[5 rows x 11 columns]"
            ]
          },
          "metadata": {
            "tags": []
          },
          "execution_count": 78
        }
      ]
    },
    {
      "cell_type": "code",
      "metadata": {
        "colab": {
          "base_uri": "https://localhost:8080/"
        },
        "id": "Pj_R-vDl8w8b",
        "outputId": "dcace68a-2ec7-4e2c-8493-b321517da2a4"
      },
      "source": [
        "print(df_text.shape)\n",
        "\n",
        "df_text.to_csv('data_karbonn_text_data_with_beautifulsoup.csv')"
      ],
      "execution_count": null,
      "outputs": [
        {
          "output_type": "stream",
          "text": [
            "(14, 11)\n"
          ],
          "name": "stdout"
        }
      ]
    },
    {
      "cell_type": "markdown",
      "metadata": {
        "id": "AiRqYae8-zR6"
      },
      "source": [
        "# Merging of the two csv files"
      ]
    },
    {
      "cell_type": "code",
      "metadata": {
        "id": "VIUv3vAp8zgY"
      },
      "source": [
        "import os,glob\n",
        "import pandas as pd\n",
        "\n",
        "path = \"/content\"\n",
        "# /content/parasonic complaints dataset.csv\n",
        "all_files = glob.glob(os.path.join(path, \"data_*.csv\"))\n",
        "df_from_each_file = (pd.read_csv(f, sep=',') for f in all_files)\n",
        "df_merged   = pd.concat(df_from_each_file, ignore_index=True)\n",
        "df_merged.to_csv( \"karbonn-beautiful-trial.csv\")"
      ],
      "execution_count": null,
      "outputs": []
    },
    {
      "cell_type": "code",
      "metadata": {
        "colab": {
          "base_uri": "https://localhost:8080/"
        },
        "id": "MVvb167A_8qW",
        "outputId": "20b25f74-5c08-4c73-f3ac-11c93874f70f"
      },
      "source": [
        "df.shape # shape of link title dataset"
      ],
      "execution_count": null,
      "outputs": [
        {
          "output_type": "execute_result",
          "data": {
            "text/plain": [
              "(6, 11)"
            ]
          },
          "metadata": {
            "tags": []
          },
          "execution_count": 81
        }
      ]
    },
    {
      "cell_type": "code",
      "metadata": {
        "colab": {
          "base_uri": "https://localhost:8080/"
        },
        "id": "taWAyjfUARAz",
        "outputId": "a532e930-6e9b-4f7a-96e6-9372819b1d1c"
      },
      "source": [
        "df_text.shape # shape of text title dataset"
      ],
      "execution_count": null,
      "outputs": [
        {
          "output_type": "execute_result",
          "data": {
            "text/plain": [
              "(14, 11)"
            ]
          },
          "metadata": {
            "tags": []
          },
          "execution_count": 82
        }
      ]
    },
    {
      "cell_type": "code",
      "metadata": {
        "colab": {
          "base_uri": "https://localhost:8080/"
        },
        "id": "RqBN9E8OATbi",
        "outputId": "e4e051a6-70de-43b6-8753-586ba182474b"
      },
      "source": [
        "df_merged.shape # shape of merged(link+title) dataset"
      ],
      "execution_count": null,
      "outputs": [
        {
          "output_type": "execute_result",
          "data": {
            "text/plain": [
              "(20, 12)"
            ]
          },
          "metadata": {
            "tags": []
          },
          "execution_count": 83
        }
      ]
    },
    {
      "cell_type": "code",
      "metadata": {
        "colab": {
          "base_uri": "https://localhost:8080/"
        },
        "id": "Js3rKbHfAX-w",
        "outputId": "b918dc3f-7d3c-4cbd-dba6-38be52e05be6"
      },
      "source": [
        "df_merged.columns"
      ],
      "execution_count": null,
      "outputs": [
        {
          "output_type": "execute_result",
          "data": {
            "text/plain": [
              "Index(['Unnamed: 0', 'company_name', 'username', 'location', 'datePublished',\n",
              "       'title', 'complaint_body', 'complaint_status_date',\n",
              "       'complaint_status_body', 'Resolved',\n",
              "       'date_when_complaint_was_marked_resolved', 'customer_care_mail'],\n",
              "      dtype='object')"
            ]
          },
          "metadata": {
            "tags": []
          },
          "execution_count": 84
        }
      ]
    },
    {
      "cell_type": "code",
      "metadata": {
        "colab": {
          "base_uri": "https://localhost:8080/"
        },
        "id": "0zD7CgmIAkoy",
        "outputId": "28ab3210-2260-46a8-80dd-2eb6a5985e36"
      },
      "source": [
        "df_text.columns"
      ],
      "execution_count": null,
      "outputs": [
        {
          "output_type": "execute_result",
          "data": {
            "text/plain": [
              "Index(['company_name', 'username', 'location', 'datePublished', 'title',\n",
              "       'complaint_body', 'complaint_status_date', 'complaint_status_body',\n",
              "       'Resolved', 'date_when_complaint_was_marked_resolved',\n",
              "       'customer_care_mail'],\n",
              "      dtype='object')"
            ]
          },
          "metadata": {
            "tags": []
          },
          "execution_count": 85
        }
      ]
    },
    {
      "cell_type": "code",
      "metadata": {
        "id": "G24DQKDGAunU"
      },
      "source": [
        ""
      ],
      "execution_count": null,
      "outputs": []
    }
  ]
}